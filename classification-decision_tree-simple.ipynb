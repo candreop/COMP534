{
 "cells": [
  {
   "cell_type": "markdown",
   "id": "c554c9df-4873-400a-8cdd-a58638907406",
   "metadata": {},
   "source": [
    "# A trivial classification test using a Decision Tree\n",
    "\n",
    "*Costas Andreopoulos \\<c.andreopoulos@cern.ch\\>*"
   ]
  },
  {
   "cell_type": "code",
   "execution_count": 1,
   "id": "d3aee689-c56a-43dd-aeb6-3789f90520f2",
   "metadata": {},
   "outputs": [],
   "source": [
    "import pandas as pd\n",
    "import matplotlib.pyplot as plt\n",
    "\n",
    "from sklearn import tree\n",
    "\n",
    "from IPython.display import display"
   ]
  },
  {
   "cell_type": "code",
   "execution_count": 2,
   "id": "4acb55f5-0265-4eff-ba8c-bb4d1059af6f",
   "metadata": {},
   "outputs": [
    {
     "data": {
      "text/html": [
       "<div>\n",
       "<style scoped>\n",
       "    .dataframe tbody tr th:only-of-type {\n",
       "        vertical-align: middle;\n",
       "    }\n",
       "\n",
       "    .dataframe tbody tr th {\n",
       "        vertical-align: top;\n",
       "    }\n",
       "\n",
       "    .dataframe thead th {\n",
       "        text-align: right;\n",
       "    }\n",
       "</style>\n",
       "<table border=\"1\" class=\"dataframe\">\n",
       "  <thead>\n",
       "    <tr style=\"text-align: right;\">\n",
       "      <th></th>\n",
       "      <th>x_0</th>\n",
       "      <th>x_1</th>\n",
       "      <th>y</th>\n",
       "    </tr>\n",
       "  </thead>\n",
       "  <tbody>\n",
       "    <tr>\n",
       "      <th>0</th>\n",
       "      <td>0</td>\n",
       "      <td>0</td>\n",
       "      <td>0</td>\n",
       "    </tr>\n",
       "    <tr>\n",
       "      <th>1</th>\n",
       "      <td>1</td>\n",
       "      <td>1</td>\n",
       "      <td>1</td>\n",
       "    </tr>\n",
       "  </tbody>\n",
       "</table>\n",
       "</div>"
      ],
      "text/plain": [
       "   x_0  x_1  y\n",
       "0    0    0  0\n",
       "1    1    1  1"
      ]
     },
     "metadata": {},
     "output_type": "display_data"
    }
   ],
   "source": [
    "# Create a decision tree\n",
    "clf = tree.DecisionTreeClassifier()\n",
    "\n",
    "# Create two arrays: \n",
    "# - an array X, sparse or dense, of shape (n_samples, n_features) holding the training samples\n",
    "# - an array Y, of integer values, of shape (n_samples,), holding the class labels\n",
    "X = [[0, 0], [1, 1]]\n",
    "Y = [0, 1]\n",
    "\n",
    "# print training set\n",
    "df_train = pd.DataFrame(X, columns=['x_0', 'x_1'])\n",
    "df_train['y'] = Y  # Add target labels\n",
    "display(df_train)"
   ]
  },
  {
   "cell_type": "code",
   "execution_count": 3,
   "id": "61464274-2784-46b9-ae55-7b76f74eab1a",
   "metadata": {},
   "outputs": [
    {
     "data": {
      "image/png": "[encoded data removed]",
      "text/plain": [
       "<Figure size 400x500 with 1 Axes>"
      ]
     },
     "metadata": {},
     "output_type": "display_data"
    }
   ],
   "source": [
    "# Train the tree\n",
    "clf = clf.fit(X, Y)\n",
    "\n",
    "# Draw the trained tree\n",
    "plt.figure(figsize=(4,5))  # Increase figure size\n",
    "tree.plot_tree(clf, filled=True)\n",
    "plt.show()"
   ]
  },
  {
   "cell_type": "code",
   "execution_count": 4,
   "id": "c949d1c2-c957-4f44-8a1a-327afea8b2ce",
   "metadata": {},
   "outputs": [
    {
     "data": {
      "text/html": [
       "<div>\n",
       "<style scoped>\n",
       "    .dataframe tbody tr th:only-of-type {\n",
       "        vertical-align: middle;\n",
       "    }\n",
       "\n",
       "    .dataframe tbody tr th {\n",
       "        vertical-align: top;\n",
       "    }\n",
       "\n",
       "    .dataframe thead th {\n",
       "        text-align: right;\n",
       "    }\n",
       "</style>\n",
       "<table border=\"1\" class=\"dataframe\">\n",
       "  <thead>\n",
       "    <tr style=\"text-align: right;\">\n",
       "      <th></th>\n",
       "      <th>x_0</th>\n",
       "      <th>x_1</th>\n",
       "      <th>y</th>\n",
       "    </tr>\n",
       "  </thead>\n",
       "  <tbody>\n",
       "    <tr>\n",
       "      <th>0</th>\n",
       "      <td>0.1</td>\n",
       "      <td>0.0</td>\n",
       "      <td>0</td>\n",
       "    </tr>\n",
       "    <tr>\n",
       "      <th>1</th>\n",
       "      <td>0.5</td>\n",
       "      <td>0.5</td>\n",
       "      <td>0</td>\n",
       "    </tr>\n",
       "    <tr>\n",
       "      <th>2</th>\n",
       "      <td>2.0</td>\n",
       "      <td>2.0</td>\n",
       "      <td>1</td>\n",
       "    </tr>\n",
       "  </tbody>\n",
       "</table>\n",
       "</div>"
      ],
      "text/plain": [
       "   x_0  x_1  y\n",
       "0  0.1  0.0  0\n",
       "1  0.5  0.5  0\n",
       "2  2.0  2.0  1"
      ]
     },
     "metadata": {},
     "output_type": "display_data"
    }
   ],
   "source": [
    "# The model can now be used to predict the class of input test samples\n",
    "X_test = [[0.1, 0.0], [0.5, 0.5], [2., 2.]]\n",
    "Y_eval = clf.predict(X_test)\n",
    "\n",
    "# print test inputs and predictions\n",
    "df = pd.DataFrame(X_test, columns=['x_0', 'x_1'])\n",
    "df['y'] = Y_eval  # Add target labels\n",
    "display(df)"
   ]
  }
 ],
 "metadata": {
  "kernelspec": {
   "display_name": "Python 3 (ipykernel)",
   "language": "python",
   "name": "python3"
  },
  "language_info": {
   "codemirror_mode": {
    "name": "ipython",
    "version": 3
   },
   "file_extension": ".py",
   "mimetype": "text/x-python",
   "name": "python",
   "nbconvert_exporter": "python",
   "pygments_lexer": "ipython3",
   "version": "3.13.1"
  }
 },
 "nbformat": 4,
 "nbformat_minor": 5
}
