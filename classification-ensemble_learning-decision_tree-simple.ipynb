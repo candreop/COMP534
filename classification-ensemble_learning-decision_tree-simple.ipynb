{
 "cells": [
  {
   "cell_type": "markdown",
   "id": "1256f3e9-cded-4ac2-9bb0-2d1e03aae2dc",
   "metadata": {},
   "source": [
    "# Ensemble Learning with Decision Trees\n",
    "\n",
    "## Simple classification problem using Random Forests and Boosted Decision Trees\n",
    "\n",
    "*Costas Andreopoulos \\<c.andreopoulos@cern.ch\\>*"
   ]
  },
  {
   "cell_type": "code",
   "execution_count": 1,
   "id": "cb7a771c-50bd-4445-83df-430a8a50416d",
   "metadata": {},
   "outputs": [],
   "source": [
    "from sklearn.datasets import make_classification\n",
    "from sklearn.model_selection import train_test_split\n",
    "from sklearn.ensemble import RandomForestClassifier, GradientBoostingClassifier\n",
    "from sklearn.metrics import accuracy_score"
   ]
  },
  {
   "cell_type": "code",
   "execution_count": 2,
   "id": "610980d3-d578-4a41-8649-772162f617af",
   "metadata": {},
   "outputs": [],
   "source": [
    "# Generate synthetic data\n",
    "X, Y = make_classification(n_samples=1000, n_features=20, random_state=42)\n",
    "\n",
    "# Split into train and test\n",
    "X_train, X_test, Y_train, Y_test = train_test_split(X, Y, test_size=0.2, random_state=42)"
   ]
  },
  {
   "cell_type": "code",
   "execution_count": 3,
   "id": "4dc4e027-8b08-4365-8d06-0905d27d5cd4",
   "metadata": {},
   "outputs": [
    {
     "name": "stdout",
     "output_type": "stream",
     "text": [
      "Random Forest Accuracy: 90.00%\n"
     ]
    }
   ],
   "source": [
    "# Train Random Forest\n",
    "rf = RandomForestClassifier(n_estimators=100, random_state=42)\n",
    "rf.fit(X_train, Y_train)\n",
    "# Make predictions for the test set\n",
    "Y_pred_rf = rf.predict(X_test)\n",
    "# Evaluate performance\n",
    "print(f\"Random Forest Accuracy: {100*accuracy_score(Y_test, Y_pred_rf):.2f}%\")"
   ]
  },
  {
   "cell_type": "code",
   "execution_count": 4,
   "id": "a123c2d2-81c0-4d24-9af4-fc0e7fd0627f",
   "metadata": {},
   "outputs": [
    {
     "name": "stdout",
     "output_type": "stream",
     "text": [
      "Gradient Boosting Accuracy: 91.00%\n"
     ]
    }
   ],
   "source": [
    "# Train Gradient Boosting\n",
    "gb = GradientBoostingClassifier(n_estimators=100, learning_rate=0.1, random_state=42)\n",
    "gb.fit(X_train, Y_train)\n",
    "# Make predictions for the test set\n",
    "Y_pred_gb = gb.predict(X_test)\n",
    "# Evaluate performance\n",
    "print(f\"Gradient Boosting Accuracy: {100*accuracy_score(Y_test, Y_pred_gb):.2f}%\")"
   ]
  },
  {
   "cell_type": "code",
   "execution_count": null,
   "id": "2e206d76-1182-4820-b961-a461adc41727",
   "metadata": {},
   "outputs": [],
   "source": []
  }
 ],
 "metadata": {
  "kernelspec": {
   "display_name": "Python 3 (ipykernel)",
   "language": "python",
   "name": "python3"
  },
  "language_info": {
   "codemirror_mode": {
    "name": "ipython",
    "version": 3
   },
   "file_extension": ".py",
   "mimetype": "text/x-python",
   "name": "python",
   "nbconvert_exporter": "python",
   "pygments_lexer": "ipython3",
   "version": "3.13.1"
  }
 },
 "nbformat": 4,
 "nbformat_minor": 5
}
